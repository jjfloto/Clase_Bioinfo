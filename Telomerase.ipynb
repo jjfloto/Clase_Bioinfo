{
  "metadata": {
    "kernelspec": {
      "name": "python",
      "display_name": "Python (Pyodide)",
      "language": "python"
    },
    "language_info": {
      "codemirror_mode": {
        "name": "python",
        "version": 3
      },
      "file_extension": ".py",
      "mimetype": "text/x-python",
      "name": "python",
      "nbconvert_exporter": "python",
      "pygments_lexer": "ipython3",
      "version": "3.8"
    }
  },
  "nbformat_minor": 4,
  "nbformat": 4,
  "cells": [
    {
      "cell_type": "markdown",
      "source": "# Proyecto Bioinformatica\n## Introducción\nLa célula guarda toda la información genética de un organismo en el ADN, formando a su vez una estructura que se organiza hasta llegar a formar los cromosomas, como se observa en la figura 1.1.  La cantidad de cromosomas varía según cada especie, por ejemplo, en humanos, normalmente son 23 pares de cromosomas (MedlinePlus, 2024) , en perros son 39 pares de estos (AxonVet, 2024).  Adicionalmente, en mamíferos, existen 2 cromosomas sexuales, los cuales indican el género del organismo, donde XY es el cariotipo de los machos y XX el de las hembras (AxonVet, 2024). No obstante, especies de insectos como saltamontes, en vez de definirse por XX o XY, las hembras presentan un cariotipo XX y los machos X (Navia, 1999), demostrando una variedad de cariotipos de interés.  \n\n \n\nFigura 1.1. (National Human Genome, 2024) \n\nEstos cromosomas, al ser de vital importancia para el organismo, están protegidos por en los extremos por telómeros, en la figura 1.1, se observan en color naranja. Estos telómeros son secuencias repetitivas de ADN que evita que los cromosomas se desgasten o se enreden. Adicionalmente, cumplen un rol supremamente importante en la división celular, pues, cada vez que la célula se divide, los telómeros se acortan, asociándose con el envejecimiento celular, lo que hace que, en un punto dado, los telómeros se acorten tanto que la célula ya no pueda seguir dividiéndose adecuadamente y mueran (National Human Genome, 2024). \n\nPara contrarrestar el acortamiento telomérico, las células poseen una enzima llamada telomerasa, la cual, es capaz de alargar los telómeros, restaurando su longitud original (Amador, 2021.  \n\nLa actividad de la telomerasa es fundamental durante el desarrollo embrionario y en células madre, donde la proliferación celular es constante. Sin embargo, en la mayoría de las células somáticas, la actividad de la telomerasa se silencia, lo que conduce al acortamiento progresivo de los telómeros y, finalmente, a la senescencia celular (Amador, 2021). \n\nLa telomerasa es una enzima altamente conservada evolutivamente, lo que sugiere su importancia para la supervivencia celular. Sin embargo, existen diferencias notables en la secuencia y estructura de la telomerasa entre diferentes organismos. Estas diferencias podrían estar relacionadas con factores como la tasa de división celular, la longevidad y la complejidad del organismo (Amador, 2021). \n\nEs por la razón anteriormente mencionada que en este proyecto se tiene como objetivo analizar las diferencias en la secuencia de la telomerasa entre diferentes organismos y construir un árbol filogenético que refleje las relaciones evolutivas entre ellos. Al comparar las secuencias de la telomerasa, se podrá identificar regiones conservadas y variables, lo que nos permitirá inferir su función y su evolución. Además, este análisis filogenético permitirá explorar si existen correlaciones entre las características de la telomerasa y otros rasgos biológicos, como la longevidad o la tasa de envejecimiento. \n\nSe plantea la hipótesis de que las diferencias en la secuencia de la telomerasa entre diferentes organismos reflejan adaptaciones evolutivas a diferentes estilos de vida y entornos. Además, se espera que el análisis filogenético revele patrones de evolución convergente o divergente en la telomerasa, lo que podría proporcionar información sobre los mecanismos moleculares que subyacen al envejecimiento y la longevidad. \n## Script\nCon el fin de entender las propiedades de la telomerasa a continuación se comparara las secuencias TERT de distintas especies de organismos para comparar los dominios y propiedades, por lo que se realizara un alineamiento, arbol filogenetico y comparación de los dominios de las enzimas de la telomerasa con las siguientes especies: \n1. Emydura macquarii macquarii (Reptile)\n2. Nanorana parkeri (Anfibio)\n3. Xenopus laevis (Anfibio)\n4. Homo sapiens (Mamifero)\n5. Saccharomyces cerevisiae (Levadura)\n6. Danio rerio (pez)\n7. Arabidopsis thaliana (Planta)\n8. Caenorhabditis elegans (Nematodo)\n9. Gallus gallus (Ave)\n\n Llinks de referencia:\n1. https://www.ncbi.nlm.nih.gov/nucleotide/XM_067557410.1?report=genbank&log$=nucltop&blast_rank=11&RID=JG35C48R013\n2. https://www.ncbi.nlm.nih.gov/nucleotide/XM_018569233.1?report=genbank&log$=nucltop&blast_rank=9&RID=JG35C48R013\n3. https://www.ncbi.nlm.nih.gov/nuccore/XM_041565229.1?report=fasta\n4. https://www.ncbi.nlm.nih.gov/nuccore/NM_198253.3?report=fasta\n5. https://www.ncbi.nlm.nih.gov/nuccore/NM_001182207.2?report=fasta\n6. https://www.ncbi.nlm.nih.gov/nuccore/XM_068215204.1?report=fasta\n7. https://www.ncbi.nlm.nih.gov/nuccore/NM_121691.4?report=fasta\n8. https://www.ncbi.nlm.nih.gov/nuccore/NM_059972.7?report=fasta\n9. https://www.ncbi.nlm.nih.gov/nuccore/XM_040684291.2?report=fasta\n",
      "metadata": {}
    },
    {
      "cell_type": "markdown",
      "source": "# Primera opción\nUna vez haya descargado las secuencias nucleotidicas de los organismos lo primero que llevaremos a cabo sera la union de estas en un mismo archivo .txt, para lograr llevar a cabo más adelante la alineación mediante clustalW",
      "metadata": {}
    },
    {
      "cell_type": "code",
      "source": "#!/bin/bash/\n# Script para unir todos los archivos .txt en un solo archivo\noutput_file=\"alineamientos.fasta\"\n# Crear archivo de salida o lo eliminamos para empezar desde cero\nif [ -f \"$output_file\" ]; then\n    rm \"$output_file\"\nfi\nfor file in *.fasta\ndo\n    # Verificamos que realmente existan archivos .fasta\n    if [ -f \"$file\" ]; then\n        echo \"Uniendo el archivo: $file\"\n        cat \"$file\" >> \"$output_file\"\n    fi\ndone\n\necho \"Archivos unidos en $output_file\"\n\n",
      "metadata": {
        "trusted": true
      },
      "outputs": [],
      "execution_count": null
    },
    {
      "cell_type": "code",
      "source": "# Paso 2",
      "metadata": {
        "trusted": true
      },
      "outputs": [],
      "execution_count": null
    },
    {
      "cell_type": "markdown",
      "source": "A continuación llevaremos el analisis de clustalW en el archivo llamado \"alineamientos.fasta\"",
      "metadata": {}
    },
    {
      "cell_type": "code",
      "source": "#!/bin/bash/\n#Script para generar a cabo el alineamiento y obtener un out put\nclustalw -infile=alineamientos.fasta -type=nucleotide -output=phylip\n# Del anterior codigo se obtendran archivos con el mismo\n# nombre mas estos terminaran en dnd.phy siendo el .phy el usado para formar el árbol filogenetico\niqtree2 -s alineamientos.phy\n# Al llevar acabo dicho proceso se obtendran varios archivos output \n# Siedo el de nuestro interes el archivo alineamiento.phy.iqtree ya que se comprende directamente la información filogenetica\n",
      "metadata": {
        "trusted": true
      },
      "outputs": [],
      "execution_count": null
    },
    {
      "cell_type": "markdown",
      "source": "# Opcion 2\nPara lograr llevar a cabo el mismo analisis se puede realizar a partir del software en linea de clustal omega, para ello debemos de descargar las secuencias adjuntadas en los links iniciales del NCBI y unirlos nuevamente en un solo archivo con el codigo presentado en la opción 1. Donde el alineamiento de ClustalW omega utiliza el metodo de Neighbour Joining (NJ), siendo esta una información que se debe tener en cuenta al momento de diseñar un arbol filogenetico o cualquier alineamiento, ya que el metodo de NJ es mucho más sensible a las variaciones entre las secuencias.\n\nlink de clustalW omega:\nhttps://www.ebi.ac.uk/jdispatcher/msa/clustalo\n\nAl momento que ingrese al link adjunte el archivo llamado \"alineamientos.fasta\" y seleccione la opción de nucleotidos. Proceda a dar clic para ejecutar el proceso del cual debera obtener el siguiente árbol filogenetico:\n",
      "metadata": {}
    },
    {
      "cell_type": "code",
      "source": "from IPython.display import Image, display\n\n# URL de la imagen en línea\ndisplay(Image(url=\"file:///C:/Users/Juan%20Jose/Downloads/Captura%20de%20pantalla%202024-11-04%20181035.jpg\"))",
      "metadata": {
        "trusted": true
      },
      "outputs": [
        {
          "output_type": "display_data",
          "data": {
            "text/html": "<img src=\"file:///C:/Users/Juan%20Jose/Downloads/Captura%20de%20pantalla%202024-11-04%20181035.jpg\"/>",
            "text/plain": "<IPython.core.display.Image object>"
          },
          "metadata": {}
        }
      ],
      "execution_count": 10
    },
    {
      "cell_type": "markdown",
      "source": "# Opción 3\nPodemos llevar acabo el mismo analisis desde R para ello utilizaremos el siguiente codigo, más para ello necesitaramos el archivo de \"alineamientos.aln\"",
      "metadata": {}
    },
    {
      "cell_type": "code",
      "source": "# recuerde revisar previamente en que lugar esta trabajando\ngetwd()\n# cambie la ubicación al entorno donde se encuentra la información\nsetwd(\"/Users/juanflorez/OneDrive/Documentos/Universidad/6 Semestre/BioinformaticaR\")",
      "metadata": {
        "trusted": true
      },
      "outputs": [],
      "execution_count": null
    },
    {
      "cell_type": "code",
      "source": "library(\"msa\")\nlibrary(\"ape\")\nlibrary(\"Biostrings\")\nlibrary(\"phangorn\")\n#debemos pasar el archivo a analizar siendo \"alineamientos.aln\"\n#el siguiente paso es analizar el dato que tiene\n#las secuencias comparadas con clustal\n\n#calculamos la distancia con el modelo JC69\nalineam = readDNAMultipleAlignment(file=\"alineamientos.aln\", format=\"clustal\")\n \narbol_phy_dat = as.phyDat(alineam) \n\nalin_dist = dist.ml(arbol_phy_dat)\nalin_NJ = NJ(alin_dist)\nplot(alin_NJ)\n\n",
      "metadata": {
        "trusted": true
      },
      "outputs": [
        {
          "ename": "<class 'SyntaxError'>",
          "evalue": "invalid syntax (<ipython-input-12-d50fa15814c7>, line 12)",
          "traceback": [
            "\u001b[0;36m  Cell \u001b[0;32mIn[12], line 12\u001b[0;36m\u001b[0m\n\u001b[0;31m    arbol_phy_dat = as.phyDat(alineam)\u001b[0m\n\u001b[0m                    ^\u001b[0m\n\u001b[0;31mSyntaxError\u001b[0m\u001b[0;31m:\u001b[0m invalid syntax\n"
          ],
          "output_type": "error"
        }
      ],
      "execution_count": 12
    },
    {
      "cell_type": "code",
      "source": "from IPython.display import Image, display\n\n# URL de la imagen en línea\ndisplay(Image(url=\"file:///C:/Users/Juan%20Jose/Downloads/rstudio.jpg\"))",
      "metadata": {
        "trusted": true
      },
      "outputs": [
        {
          "output_type": "display_data",
          "data": {
            "text/html": "<img src=\"file:///C:/Users/Juan%20Jose/Downloads/rstudio.jpg\"/>",
            "text/plain": "<IPython.core.display.Image object>"
          },
          "metadata": {}
        }
      ],
      "execution_count": 13
    },
    {
      "cell_type": "markdown",
      "source": "# Comparación proteica\nDe las secuencias de ADN de telomerasa obtenidas el siguiente paso será analizar las diferencias entre las enzimas para ello se llevara un analisis in silico.",
      "metadata": {}
    },
    {
      "cell_type": "code",
      "source": "# traduccion de secuencias nucleotidicas\n#!/usr/bin/env python3\n#librerias necesarias\n\n#importar librerias\nimport os\nimport sys\n\nimport Bio\nfrom Bio import SeqIO\nfrom Bio.Seq import Seq\n#output para almacenar las secuencias proteicas\noutput_file=\"prot_sal.fasta\"\ndnaAln=\"alineamientos.fasta\"\n# abrimos el archivo output para poder escribir en este\nwith open(output_file, \"w\") as out_handle:\n for record in SeqIO.parse(dnaAln, \"fasta\"):\n        mARN=record.seq.transcribe()\n        prot=mARN.translate()\n        # Escribir la secuencia proteica en el archivo de salida en formato FASTA\n        out_handle.write(f\">{record.id}\\n{prot}\\n\")\n",
      "metadata": {
        "trusted": true,
        "jupyter": {
          "source_hidden": true
        }
      },
      "outputs": [],
      "execution_count": null
    },
    {
      "cell_type": "code",
      "source": "",
      "metadata": {
        "trusted": true
      },
      "outputs": [],
      "execution_count": null
    }
  ]
}